{
  "nbformat": 4,
  "nbformat_minor": 0,
  "metadata": {
    "colab": {
      "provenance": [],
      "authorship_tag": "ABX9TyO6nJBOyDc2q1WjVWHmv3Zr",
      "include_colab_link": true
    },
    "kernelspec": {
      "name": "python3",
      "display_name": "Python 3"
    },
    "language_info": {
      "name": "python"
    }
  },
  "cells": [
    {
      "cell_type": "markdown",
      "metadata": {
        "id": "view-in-github",
        "colab_type": "text"
      },
      "source": [
        "<a href=\"https://colab.research.google.com/github/Somanath07/data_analyst/blob/main/QandA_python.ipynb\" target=\"_parent\"><img src=\"https://colab.research.google.com/assets/colab-badge.svg\" alt=\"Open In Colab\"/></a>"
      ]
    },
    {
      "cell_type": "code",
      "execution_count": null,
      "metadata": {
        "id": "B_ctcoPwxUXn",
        "colab": {
          "base_uri": "https://localhost:8080/",
          "height": 233
        },
        "outputId": "8a1eb630-78b3-4e6e-e3ec-f1387e515646"
      },
      "outputs": [
        {
          "name": "stdout",
          "output_type": "stream",
          "text": [
            "enter 2nd number\n"
          ]
        },
        {
          "output_type": "error",
          "ename": "ValueError",
          "evalue": "invalid literal for int() with base 10: ''",
          "traceback": [
            "\u001b[0;31m---------------------------------------------------------------------------\u001b[0m",
            "\u001b[0;31mValueError\u001b[0m                                Traceback (most recent call last)",
            "\u001b[0;32m<ipython-input-1-475ea48dade4>\u001b[0m in \u001b[0;36m<cell line: 3>\u001b[0;34m()\u001b[0m\n\u001b[1;32m      1\u001b[0m \u001b[0;31m# User will input (3ages).Find the oldest one\u001b[0m\u001b[0;34m\u001b[0m\u001b[0;34m\u001b[0m\u001b[0m\n\u001b[1;32m      2\u001b[0m \u001b[0ma\u001b[0m\u001b[0;34m=\u001b[0m\u001b[0mint\u001b[0m\u001b[0;34m(\u001b[0m\u001b[0minput\u001b[0m\u001b[0;34m(\u001b[0m\u001b[0;34m'enter 1st number'\u001b[0m\u001b[0;34m)\u001b[0m\u001b[0;34m)\u001b[0m\u001b[0;34m\u001b[0m\u001b[0;34m\u001b[0m\u001b[0m\n\u001b[0;32m----> 3\u001b[0;31m \u001b[0mb\u001b[0m\u001b[0;34m=\u001b[0m\u001b[0mint\u001b[0m\u001b[0;34m(\u001b[0m\u001b[0minput\u001b[0m\u001b[0;34m(\u001b[0m\u001b[0;34m'enter 2nd number'\u001b[0m\u001b[0;34m)\u001b[0m\u001b[0;34m)\u001b[0m\u001b[0;34m\u001b[0m\u001b[0;34m\u001b[0m\u001b[0m\n\u001b[0m\u001b[1;32m      4\u001b[0m \u001b[0mc\u001b[0m\u001b[0;34m=\u001b[0m\u001b[0mint\u001b[0m\u001b[0;34m(\u001b[0m\u001b[0minput\u001b[0m\u001b[0;34m(\u001b[0m\u001b[0;34m'enter 3rd number'\u001b[0m\u001b[0;34m)\u001b[0m\u001b[0;34m)\u001b[0m\u001b[0;34m\u001b[0m\u001b[0;34m\u001b[0m\u001b[0m\n\u001b[1;32m      5\u001b[0m \u001b[0mmax\u001b[0m\u001b[0;34m=\u001b[0m\u001b[0ma\u001b[0m\u001b[0;34m\u001b[0m\u001b[0;34m\u001b[0m\u001b[0m\n",
            "\u001b[0;31mValueError\u001b[0m: invalid literal for int() with base 10: ''"
          ]
        }
      ],
      "source": [
        "# User will input (3ages).Find the oldest one\n",
        "a=int(input('enter 1st number'))\n",
        "b=int(input('enter 2nd number'))\n",
        "c=int(input('enter 3rd number'))\n",
        "max=a\n",
        "if max<b:\n",
        "  max=b\n",
        "if max<c:\n",
        "  max=c\n",
        "print(max)\n"
      ]
    },
    {
      "cell_type": "code",
      "source": [
        "a=int(input('enter 1st number'))\n",
        "b=int(input('enter 2nd number'))\n",
        "c=int(input('enter 3rd number'))\n",
        "if a>b and a>c:\n",
        "  print(a,' is greater')\n",
        "elif b>a and b>c:\n",
        "  print(b,' is greater')\n",
        "else :\n",
        "  print(c, 'is greater')"
      ],
      "metadata": {
        "id": "CrSmiKxiyZpy"
      },
      "execution_count": null,
      "outputs": []
    },
    {
      "cell_type": "code",
      "source": [
        "9/5"
      ],
      "metadata": {
        "id": "iILBrzlQ36yA"
      },
      "execution_count": null,
      "outputs": []
    },
    {
      "cell_type": "code",
      "source": [
        "# Write a program that will convert celsius value to fahrenheit\n",
        "#  °F = (9/5) °C+32.\n",
        "x=float(input('enter celsius value'))\n",
        "print(1.8*x+32)"
      ],
      "metadata": {
        "id": "_uFbcMxS0lFb"
      },
      "execution_count": null,
      "outputs": []
    },
    {
      "cell_type": "code",
      "source": [
        "#  User will input (2numbers).Write a program to swap the numbers\n",
        "a=int(input('enter a value of a'))\n",
        "b=int(input('enter a value of b'))\n",
        "t=a\n",
        "a=b\n",
        "b=t\n",
        "print(a,b)"
      ],
      "metadata": {
        "id": "aC4_MMTl3ilX"
      },
      "execution_count": null,
      "outputs": []
    },
    {
      "cell_type": "code",
      "source": [
        "# Write a program that will give you the sum of 3 digits\n",
        "a=int(input('enter 1st number'))\n",
        "b=int(input('enter 2nd number'))\n",
        "c=int(input('enter 3rd number'))\n",
        "print('result=',a+b+c)"
      ],
      "metadata": {
        "id": "H8svsnyL47eb"
      },
      "execution_count": null,
      "outputs": []
    },
    {
      "cell_type": "code",
      "source": [
        "# Write a program that will reverse a four digit number.Also it checks\n",
        "# whether the reverse is true."
      ],
      "metadata": {
        "id": "FG-pEK7K6CLJ"
      },
      "execution_count": null,
      "outputs": []
    },
    {
      "cell_type": "code",
      "source": [
        "num=int(input('enter a four digit number'))\n",
        "a=num%10\n",
        "num=num//10\n",
        "# 1234%10-4 and 1234//10-123\n",
        "\n",
        "b=num%10\n",
        "# 123%10-3 and 123//10-12\n",
        "num=num//10\n",
        "\n",
        "c=num%10\n",
        "# 12%10-2\n",
        "d=num//10  #1\n",
        "\n",
        "rev=d+c*10+b*100+a*1000\n",
        "print(rev)\n",
        "# check\n",
        "if rev==num:\n",
        "  print('True')\n",
        "else :\n",
        "  print('False')"
      ],
      "metadata": {
        "id": "aZMQFwwS6M3h"
      },
      "execution_count": null,
      "outputs": []
    },
    {
      "cell_type": "code",
      "source": [
        "num=input('enter a number')\n",
        "print(num[::-1])"
      ],
      "metadata": {
        "id": "c8kVmEZ36BWh"
      },
      "execution_count": null,
      "outputs": []
    },
    {
      "cell_type": "code",
      "source": [
        "# Write a program that will tell whether the number entered by the\n",
        "# user is odd or even\n",
        "# x=int(input('enter a num'))\n",
        "b=lambda x: 'even' if x%2==0 else 'odd'\n",
        "b(12)"
      ],
      "metadata": {
        "id": "_S_p5-0q-5nH"
      },
      "execution_count": null,
      "outputs": []
    },
    {
      "cell_type": "code",
      "source": [
        "# or\n",
        "num=int(input('enter a num'))\n",
        "if num%2==0:\n",
        "  print(num,'is even')\n",
        "else:\n",
        "  print(num, ' is odd')"
      ],
      "metadata": {
        "id": "vZvCd8yM_Vcj"
      },
      "execution_count": null,
      "outputs": []
    },
    {
      "cell_type": "code",
      "source": [
        "# . Write a program that will tell whether the given year is a leap year\n",
        "# or not\n",
        "def leap_year(a):\n",
        "  if a%4==0:\n",
        "    return 'leap year'\n",
        "  else:\n",
        "    return 'not a leap year'"
      ],
      "metadata": {
        "id": "rU_aH5u_APmU"
      },
      "execution_count": null,
      "outputs": []
    },
    {
      "cell_type": "code",
      "source": [
        "leap_year(2020)"
      ],
      "metadata": {
        "id": "9TKYJdtyBFs4"
      },
      "execution_count": null,
      "outputs": []
    },
    {
      "cell_type": "code",
      "source": [
        "y = int(input(\"Enter Year : \"))\n",
        "if  y%100 == 0 and y%400 != 0:\n",
        "  print(\"The given year is a Non-Leap Year\")\n",
        "elif y % 4 == 0:\n",
        "  print(\"The given year is a Leap Year\")\n",
        "else:\n",
        "  print(\"The given year is a Non-Leap Year\")\n"
      ],
      "metadata": {
        "id": "Yvy_gGabBJIW"
      },
      "execution_count": null,
      "outputs": []
    },
    {
      "cell_type": "code",
      "source": [
        "# Write a program to find the euclidean distance between two coordinates\n",
        "x1=float(input('enter x1'))\n",
        "y1=float(input('enter y1'))\n",
        "x2=float(input('enter x2'))\n",
        "y2=float(input('enter y2'))\n",
        "d=((x2-x1)**2 + (y2-y1)**2)**0.5\n",
        "print(d)\n"
      ],
      "metadata": {
        "id": "UEoH5Va9C_xH"
      },
      "execution_count": null,
      "outputs": []
    },
    {
      "cell_type": "code",
      "source": [
        "# Write a program that take a user inputr of three angles and will\n",
        "# find out whether it can form a triangle or not.\n",
        "a=float(input('enter 1st angle'))\n",
        "b=float(input('enter 1st angle'))\n",
        "c=float(input('enter 1st angle'))\n",
        "if a+b+c==180 and a==b==c!=0:\n",
        "  print('those will form a triangle')\n",
        "else:\n",
        "  print('triangle will not form ')\n"
      ],
      "metadata": {
        "id": "ky_mvP6IXlr6"
      },
      "execution_count": null,
      "outputs": []
    },
    {
      "cell_type": "code",
      "source": [
        "# Write a program that will take user input of cost price and selling\n",
        "# price and determines whether its a loss or a profit\n",
        "cost_price=float(input('enter cost price'))\n",
        "sell_price=float(input('enter sell price'))\n",
        "if cost_price>=sell_price:\n",
        "  print('loss')\n",
        "else:\n",
        "  print('profit:',sell_price-cost_price)"
      ],
      "metadata": {
        "id": "1lo340EuYXXo"
      },
      "execution_count": null,
      "outputs": []
    },
    {
      "cell_type": "code",
      "source": [
        "# Write a program to find the simple interest when the value of\n",
        "# principle,rate of interest and time period is given.\n",
        "p=float(input('enter'))\n",
        "t=float(input('time'))\n",
        "r=float(input('rate of interest'))\n",
        "result=(p*t*r)/100\n",
        "print(result)"
      ],
      "metadata": {
        "id": "gi7Hg3CfcgUV"
      },
      "execution_count": null,
      "outputs": []
    },
    {
      "cell_type": "code",
      "source": [
        "# Write a program to find the volume of the cylinder. Also find the\n",
        "# cost when ,when the cost of 1litre milk is 40Rs.\n",
        "r=45\n",
        "vol=3.14*(r**2)*50\n",
        "print(vol)\n",
        "total_amount=vol/1000*40\n",
        "print('total_amount=',total_amount)\n"
      ],
      "metadata": {
        "id": "rOHtRakhdhRQ"
      },
      "execution_count": null,
      "outputs": []
    },
    {
      "cell_type": "code",
      "source": [
        "import numpy as np\n",
        "arr1=np.array([[[1,2,3,4],[4,5,6,5],[4,5,6,5]],[[7,8,9,2],[4,5,8,5],[7,8,9,2]]])\n",
        "arr1"
      ],
      "metadata": {
        "id": "8REdp4PcrTJV"
      },
      "execution_count": null,
      "outputs": []
    },
    {
      "cell_type": "code",
      "source": [
        "arr1.size"
      ],
      "metadata": {
        "id": "8co50-oObXyG"
      },
      "execution_count": null,
      "outputs": []
    },
    {
      "cell_type": "code",
      "source": [
        "arr1.shape"
      ],
      "metadata": {
        "id": "cg-Gp2TrbbfQ"
      },
      "execution_count": null,
      "outputs": []
    },
    {
      "cell_type": "code",
      "source": [
        "# Write a program that will tell whether the given number is divisible by 3 & 6.\n",
        "num=int(input('enter a number'))\n",
        "if num%3==0 and num%6==0:\n",
        "  print(num,'is divisible by both 3 and 6')\n",
        "else:\n",
        "  print(num,'is not divisible by 3 and 6')"
      ],
      "metadata": {
        "id": "OfsVw3DBboQU",
        "colab": {
          "base_uri": "https://localhost:8080/"
        },
        "outputId": "acf7eec0-41b7-4889-aaeb-00b30c78f2b8"
      },
      "execution_count": null,
      "outputs": [
        {
          "output_type": "stream",
          "name": "stdout",
          "text": [
            "enter a number23\n",
            "23 is not divisible by 3 and 6\n"
          ]
        }
      ]
    },
    {
      "cell_type": "code",
      "source": [
        "# Write a program that will determine weather when the value of\n",
        "# temperature and humidity is provided by the user.\n",
        "# TEMPERATURE(C) HUMIDITY(%) WEATHER\n",
        "# >= 30          >=90     Hot and Humid\n",
        "# >= 30          < 90 Hot\n",
        "# <30           >= 90 Cool and Humid\n",
        "# <30          <90 Cool"
      ],
      "metadata": {
        "id": "0T_MDv_ISaWZ"
      },
      "execution_count": null,
      "outputs": []
    },
    {
      "cell_type": "code",
      "source": [
        "# Write a program that will check whether the number is armstrong\n",
        "# number or not.\n",
        "num=int(input('enter a number'))\n",
        "sum=0\n",
        "t=num\n",
        "while t>0:\n",
        "  d=t%10\n",
        "  sum=sum+d**3\n",
        "  t=t//10\n",
        "if sum==num:\n",
        "  print('Armstrong number')\n",
        "else:\n",
        "  print('Not Armstrong number')"
      ],
      "metadata": {
        "colab": {
          "base_uri": "https://localhost:8080/"
        },
        "id": "CEftc189T6yN",
        "outputId": "bd063976-5c4d-401c-cea4-ee8d82e4113c"
      },
      "execution_count": null,
      "outputs": [
        {
          "output_type": "stream",
          "name": "stdout",
          "text": [
            "enter a number153\n",
            "Armstrong number\n"
          ]
        }
      ]
    },
    {
      "cell_type": "code",
      "source": [
        "# Write a program that will take user input of (4 digits number) and\n",
        "# check whether the number is narcissist number or not.\n",
        "#  addition of the digits**4\n"
      ],
      "metadata": {
        "id": "_sN_rHuZWApC"
      },
      "execution_count": null,
      "outputs": []
    },
    {
      "cell_type": "code",
      "source": [
        "# Write a program that will give you the in hand salary after\n",
        "# deduction of HRA(10%),DA(5%),PF(3%), and tax(if salary is between\n",
        "# 5-10 lakh–10%),(11-20lakh–20%),(20< _ – 30%)(0-1lakh print k).\n",
        "\n",
        "annual_salary=float(input('enter your annual salary package'))\n",
        "salary=annual_salary\n",
        "if salary>500000 and salary<=1000000:\n",
        "  tax=(10/100)*salary\n",
        "  temp_salary=salary-tax\n",
        "if salary>1000000 and salary<2000000:\n",
        "  tax=(20/100)*salary\n",
        "  temp_salary=salary-tax\n",
        "if salary>2000000:\n",
        "  tax=(30/100)*salary\n",
        "  temp_salary=salary-tax\n",
        "if salary<500000:\n",
        "  tax=0\n",
        "  temp_salary=salary-tax\n",
        "\n",
        "\n",
        "hra=(10/100)*temp_salary\n",
        "da=(5/100)*temp_salary\n",
        "pf=(3/100)*temp_salary\n",
        "in_hand_salary=(temp_salary-hra-da-pf)\n",
        "in_hand_monthly_salary=(temp_salary-hra-da-pf)/12\n",
        "print(in_hand_salary)\n",
        "print(in_hand_monthly_salary)\n",
        "\n",
        "\n",
        "if in_hand_monthly_salary<100000:\n",
        "  print(in_hand_monthly_salary/1000,'K')\n",
        "elif in_hand_monthly_salary>100000 and in_hand_monthly_salary<10000000:\n",
        "  print(in_hand_monthly_salary/100000,'L')\n",
        "else:\n",
        "  print(in_hand_monthly_salary/10000000,'Cr')\n",
        "\n",
        "\n",
        "\n"
      ],
      "metadata": {
        "colab": {
          "base_uri": "https://localhost:8080/"
        },
        "id": "uSMw458cYlA3",
        "outputId": "d9204154-1b39-4eb3-e884-3ff8be5b3a2d"
      },
      "execution_count": null,
      "outputs": [
        {
          "output_type": "stream",
          "name": "stdout",
          "text": [
            "enter your annual salary package780000\n",
            "575640.0\n",
            "47970.0\n",
            "47.97 K\n"
          ]
        }
      ]
    },
    {
      "cell_type": "code",
      "source": [
        "# Write a menu driven program - 1.cm to ft 2.km to miles 3.usd to inr 4.exit\n",
        "user_input=input('''\n",
        "wht would you like to do ? plz choose here:\n",
        "1.cm to ft\n",
        "2.km to miles\n",
        "3.usd to inr\n",
        "4.exit\n",
        "''')\n",
        "if user_input==\"1\":\n",
        "  cm=float(input('enter a value in cm'))\n",
        "  print(0.033*cm)\n",
        "elif user_input==\"2\":\n",
        "  km=float(input('enter a value in km'))\n",
        "  print(km*0.621371)\n",
        "elif user_input==\"3\":\n",
        "  usd=float(input('enter ur usd value'))\n",
        "  print(usd*84.07)\n",
        "elif user_input==\"4\":\n",
        "  print('Exit')\n",
        "else:\n",
        "  print('Choose the correct iption')"
      ],
      "metadata": {
        "colab": {
          "base_uri": "https://localhost:8080/"
        },
        "id": "c8bmXNSMgbq7",
        "outputId": "31dbb164-fe97-41f9-dd3b-beb60656fe66"
      },
      "execution_count": null,
      "outputs": [
        {
          "output_type": "stream",
          "name": "stdout",
          "text": [
            "\n",
            "wht would you like to do ? plz choose here:\n",
            "1.cm to ft\n",
            "2.km to miles\n",
            "3.usd to inr\n",
            "4.exit\n",
            "56\n",
            "Choose the correct iption\n"
          ]
        }
      ]
    },
    {
      "cell_type": "code",
      "source": [
        "# Write a program that will swap numbers\n",
        "a=int(input('enter a number'))\n",
        "b=int(input('enter another number'))\n",
        "a,b=b,a\n",
        "print(a)\n",
        "print(b)"
      ],
      "metadata": {
        "id": "yVxnIsNnkHoL",
        "colab": {
          "base_uri": "https://localhost:8080/"
        },
        "outputId": "d0000836-17a6-428b-81d0-9e37d2149936"
      },
      "execution_count": null,
      "outputs": [
        {
          "output_type": "stream",
          "name": "stdout",
          "text": [
            "enter a number45\n",
            "enter another number23\n",
            "23\n",
            "45\n"
          ]
        }
      ]
    },
    {
      "cell_type": "code",
      "source": [
        "from re import A\n",
        "# or\n",
        "a=int(input('enter a number'))\n",
        "b=int(input('enter another number'))\n",
        "t=a\n",
        "a=b\n",
        "b=t\n",
        "print(a)\n",
        "print(b)\n",
        "# or we can do by addition and subtraction"
      ],
      "metadata": {
        "colab": {
          "base_uri": "https://localhost:8080/"
        },
        "id": "FHK1TsnICRb8",
        "outputId": "d931e599-884c-4875-b869-e8fdb6f251bf"
      },
      "execution_count": null,
      "outputs": [
        {
          "output_type": "stream",
          "name": "stdout",
          "text": [
            "enter a number45\n",
            "enter another number23\n",
            "23\n",
            "45\n"
          ]
        }
      ]
    },
    {
      "cell_type": "code",
      "source": [
        "# .Write a program to find the sum of first n numbers, where n will be\n",
        "# provided by the user. Eg if the user provides n=10 the output should be\n",
        "# 55.\n",
        "user=int(input('enter a number'))\n",
        "output=user*(user+1)/2\n",
        "print(int(output))"
      ],
      "metadata": {
        "colab": {
          "base_uri": "https://localhost:8080/"
        },
        "id": "r9RGCWU3CzO5",
        "outputId": "5894f7c2-a340-4cbc-a557-517203a505e9"
      },
      "execution_count": null,
      "outputs": [
        {
          "output_type": "stream",
          "name": "stdout",
          "text": [
            "enter a number10\n",
            "55\n"
          ]
        }
      ]
    },
    {
      "cell_type": "code",
      "source": [
        "# Write a program that can multiply 2 numbers provided by the user\n",
        "# without using the * operator\n",
        "# a=int(input('enter a number'))\n",
        "# b=int(input('enter another number'))\n",
        "first_num = int(input('enter 1st num: '))\n",
        "second_num = int(input('enter 2nd num: '))\n",
        "\n",
        "result = 0\n",
        "for i in range(0, abs(first_num)):\n",
        "    result = result + second_num\n",
        "\n",
        "if first_num < 0:\n",
        "    result = -result\n",
        "\n",
        "print(result)"
      ],
      "metadata": {
        "colab": {
          "base_uri": "https://localhost:8080/"
        },
        "id": "Crk4oHgnDvgk",
        "outputId": "d38ddcfd-78a6-47e2-c57d-dfea70e84cca"
      },
      "execution_count": null,
      "outputs": [
        {
          "output_type": "stream",
          "name": "stdout",
          "text": [
            "enter 1st num: -5\n",
            "enter 2nd num: 8\n",
            "-40\n"
          ]
        }
      ]
    },
    {
      "cell_type": "code",
      "source": [
        "abs(10.2)"
      ],
      "metadata": {
        "colab": {
          "base_uri": "https://localhost:8080/"
        },
        "id": "wRngamRbHABn",
        "outputId": "b818f3d0-9eb6-4845-d940-5803e0826b3c"
      },
      "execution_count": null,
      "outputs": [
        {
          "output_type": "execute_result",
          "data": {
            "text/plain": [
              "10.2"
            ]
          },
          "metadata": {},
          "execution_count": 10
        }
      ]
    },
    {
      "cell_type": "code",
      "source": [
        "# .Write a program that can find the factorial of a given number provided\n",
        "# by the user.\n",
        "def fac(a):\n",
        "  if a==0 or a==1:\n",
        "    return 1\n",
        "  else:\n",
        "    return a*fac(a-1)\n",
        "\n",
        "fac(5)"
      ],
      "metadata": {
        "colab": {
          "base_uri": "https://localhost:8080/"
        },
        "id": "aa0GjT6KHBiy",
        "outputId": "5c027a7f-6d4d-4d40-8e63-640b533ede1b"
      },
      "execution_count": null,
      "outputs": [
        {
          "output_type": "execute_result",
          "data": {
            "text/plain": [
              "120"
            ]
          },
          "metadata": {},
          "execution_count": 13
        }
      ]
    },
    {
      "cell_type": "code",
      "source": [
        "# . Write a program to print the first 25 odd numbers\n",
        "number=1\n",
        "count=0\n",
        "while count<25:\n",
        "  print(number,end=' ')\n",
        "  number=number+2\n",
        "  count=count+1\n"
      ],
      "metadata": {
        "colab": {
          "base_uri": "https://localhost:8080/"
        },
        "id": "8l2W8yuYJgc5",
        "outputId": "17bc8b4c-0066-413f-98ed-be1708ce94c4"
      },
      "execution_count": null,
      "outputs": [
        {
          "output_type": "stream",
          "name": "stdout",
          "text": [
            "1 3 5 7 9 11 13 15 17 19 21 23 25 27 29 31 33 35 37 39 41 43 45 47 49 "
          ]
        }
      ]
    },
    {
      "cell_type": "code",
      "source": [
        "# Write a program to print whether a given number is prime number or not\n"
      ],
      "metadata": {
        "id": "SJMNzOkWKxwG"
      },
      "execution_count": null,
      "outputs": []
    }
  ]
}